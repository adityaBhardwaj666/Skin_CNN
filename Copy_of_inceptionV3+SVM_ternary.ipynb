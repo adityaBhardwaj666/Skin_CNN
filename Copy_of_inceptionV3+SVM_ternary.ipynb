{
  "nbformat": 4,
  "nbformat_minor": 0,
  "metadata": {
    "colab": {
      "name": "Copy of inceptionV3_binary.ipynb",
      "version": "0.3.2",
      "provenance": [],
      "collapsed_sections": []
    },
    "kernelspec": {
      "name": "python3",
      "display_name": "Python 3"
    },
    "accelerator": "GPU"
  },
  "cells": [
    {
      "cell_type": "code",
      "metadata": {
        "id": "VjNbh5x60lqB",
        "colab_type": "code",
        "outputId": "7f7598aa-c505-4187-b3a7-a6f3ec17ddce",
        "colab": {
          "base_uri": "https://localhost:8080/",
          "height": 122
        }
      },
      "source": [
        "from google.colab import drive\n",
        "drive.mount('/content/gdrive',force_remount=True)"
      ],
      "execution_count": 1,
      "outputs": [
        {
          "output_type": "stream",
          "text": [
            "Go to this URL in a browser: https://accounts.google.com/o/oauth2/auth?client_id=947318989803-6bn6qk8qdgf4n4g3pfee6491hc0brc4i.apps.googleusercontent.com&redirect_uri=urn%3Aietf%3Awg%3Aoauth%3A2.0%3Aoob&scope=email%20https%3A%2F%2Fwww.googleapis.com%2Fauth%2Fdocs.test%20https%3A%2F%2Fwww.googleapis.com%2Fauth%2Fdrive%20https%3A%2F%2Fwww.googleapis.com%2Fauth%2Fdrive.photos.readonly%20https%3A%2F%2Fwww.googleapis.com%2Fauth%2Fpeopleapi.readonly&response_type=code\n",
            "\n",
            "Enter your authorization code:\n",
            "··········\n",
            "Mounted at /content/gdrive\n"
          ],
          "name": "stdout"
        }
      ]
    },
    {
      "cell_type": "code",
      "metadata": {
        "id": "hznngafiBaj8",
        "colab_type": "code",
        "colab": {}
      },
      "source": [
        "!unzip -q \"/content/gdrive/My Drive/SortedImages2019.zip\""
      ],
      "execution_count": 0,
      "outputs": []
    },
    {
      "cell_type": "code",
      "metadata": {
        "id": "i8KSE-xHsC-8",
        "colab_type": "code",
        "outputId": "0d4a7930-9e7d-438c-efa7-21c72c175e63",
        "colab": {
          "base_uri": "https://localhost:8080/",
          "height": 34
        }
      },
      "source": [
        "from zipfile import ZipFile\n",
        "file ='/content/gdrive/My Drive/SortedImages2019.zip'\n",
        "\n",
        "with ZipFile(file,'r') as zip:\n",
        "  zip.extractall()\n",
        "  print('Done')"
      ],
      "execution_count": 0,
      "outputs": [
        {
          "output_type": "stream",
          "text": [
            "Done\n"
          ],
          "name": "stdout"
        }
      ]
    },
    {
      "cell_type": "code",
      "metadata": {
        "id": "QftltOos03HY",
        "colab_type": "code",
        "outputId": "e712656e-21bd-4c61-9993-5a91007e6a2f",
        "colab": {
          "base_uri": "https://localhost:8080/",
          "height": 34
        }
      },
      "source": [
        "import numpy as np\n",
        "import pandas as pd\n",
        "import os\n",
        "import keras\n",
        "from sklearn.datasets import load_files\n",
        "from keras.utils import np_utils\n",
        "\n",
        "\n",
        "from keras.preprocessing import image\n",
        "from keras.layers import Dense, GlobalAveragePooling2D,Dropout,Input\n",
        "# from keras.layers.advanced_activations import LeakyReLU, ELU\n",
        "from keras.models import Sequential,Model\n",
        "from keras import backend as K\n",
        "from IPython.display import display\n",
        "\n",
        "from keras.preprocessing.image import ImageDataGenerator\n",
        "\n",
        "import glob\n",
        "import cv2\n",
        "from keras.models import Sequential,Input,Model\n",
        "from keras.layers import Dense, Dropout, Flatten\n",
        "from keras.layers import Conv2D, MaxPooling2D\n",
        "from keras.layers.normalization import BatchNormalization\n",
        "from keras.layers.advanced_activations import LeakyReLU\n",
        "import numpy as np\n",
        "import matplotlib\n",
        "import matplotlib.pyplot as plt\n",
        "from keras.models import Sequential,load_model\n",
        "from keras.layers import Dense , Dropout,Activation\n",
        "from keras import layers, optimizers\n",
        "import tensorflow as tf\n",
        "from keras import applications"
      ],
      "execution_count": 3,
      "outputs": [
        {
          "output_type": "stream",
          "text": [
            "Using TensorFlow backend.\n"
          ],
          "name": "stderr"
        }
      ]
    },
    {
      "cell_type": "code",
      "metadata": {
        "id": "ij_YTrw61KhC",
        "colab_type": "code",
        "colab": {}
      },
      "source": [
        "train_datagen = ImageDataGenerator( rescale=1./255,\n",
        "      rotation_range=40,\n",
        "      \n",
        "                               \n",
        "      validation_split=0.15)\n"
      ],
      "execution_count": 0,
      "outputs": []
    },
    {
      "cell_type": "code",
      "metadata": {
        "id": "kVm9zp9o1PR9",
        "colab_type": "code",
        "outputId": "f38783cf-a8dd-4af5-b86f-fc97ee835b51",
        "colab": {
          "base_uri": "https://localhost:8080/",
          "height": 156
        }
      },
      "source": [
        "batch_size=32\n",
        "img_rows=299\n",
        "img_cols=299\n",
        "\n",
        "training_set = train_datagen.flow_from_directory(\"/content/SortedImages\", \n",
        "                                                 target_size = (img_rows,img_cols), \n",
        "                                                 batch_size = batch_size,\n",
        "                                                 classes=['MEL','BKL','BCC'],\n",
        "                                                 class_mode='categorical',\n",
        "                                                 subset=\"training\")\n",
        "\n",
        "\n",
        "test_set = train_datagen.flow_from_directory(\"/content/SortedImages\", \n",
        "                                                 target_size = (img_rows,img_cols),\n",
        "                                                 batch_size = batch_size,\n",
        "                                                  classes=['MEL','BKL','BCC'],\n",
        "                                                 class_mode='categorical',\n",
        "                                                 subset='validation',\n",
        "                                                shuffle=False\n",
        "                                                 )\n",
        "\n",
        "class_weights1={ 0:3 , 1:1}\n",
        "\n",
        "visible = Input(shape=(img_rows,img_cols,3))  "
      ],
      "execution_count": 5,
      "outputs": [
        {
          "output_type": "stream",
          "text": [
            "Found 7853 images belonging to 3 classes.\n",
            "Found 2616 images belonging to 3 classes.\n"
          ],
          "name": "stdout"
        },
        {
          "output_type": "stream",
          "text": [
            "WARNING: Logging before flag parsing goes to stderr.\n",
            "W0822 05:50:24.688311 140367873435520 deprecation_wrapper.py:119] From /usr/local/lib/python3.6/dist-packages/keras/backend/tensorflow_backend.py:74: The name tf.get_default_graph is deprecated. Please use tf.compat.v1.get_default_graph instead.\n",
            "\n",
            "W0822 05:50:24.725338 140367873435520 deprecation_wrapper.py:119] From /usr/local/lib/python3.6/dist-packages/keras/backend/tensorflow_backend.py:517: The name tf.placeholder is deprecated. Please use tf.compat.v1.placeholder instead.\n",
            "\n"
          ],
          "name": "stderr"
        }
      ]
    },
    {
      "cell_type": "code",
      "metadata": {
        "id": "njQv4dZruT13",
        "colab_type": "code",
        "colab": {}
      },
      "source": [
        "#train_datagen.fit(training_set)\n",
        "from sklearn.utils import class_weight\n",
        "import numpy as np\n",
        "\n",
        "class_weights = class_weight.compute_class_weight('balanced',\n",
        "                                                   np.unique(training_set.classes), \n",
        "                                                   training_set.classes\n",
        "                                                 )\n"
      ],
      "execution_count": 0,
      "outputs": []
    },
    {
      "cell_type": "code",
      "metadata": {
        "id": "sAJPyE3e1htG",
        "colab_type": "code",
        "outputId": "cbaa6d07-3d0d-40b7-cc87-018091d0848f",
        "colab": {
          "base_uri": "https://localhost:8080/",
          "height": 343
        }
      },
      "source": [
        "from keras.models import Model\n",
        "from keras.layers import Input\n",
        "from keras.layers.merge import concatenate\n",
        "from keras.layers import GaussianNoise\n",
        "from keras import regularizers\n",
        "\n",
        "visible = Input(shape=(img_rows,img_cols,3))                    #////INPUT\n",
        "\n",
        "from keras.applications.inception_v3 import InceptionV3\n",
        "from keras.layers import Dense, GlobalMaxPooling2D\n",
        "from keras import backend as K\n",
        "\n",
        "base_model=keras.applications.inception_v3.InceptionV3(include_top=False,weights='imagenet',input_shape=(img_rows,img_cols,3))\n",
        "\n",
        "x=base_model.output\n",
        "x=keras.layers.GlobalAveragePooling2D()(x)\n",
        "\n",
        "x=keras.layers.GaussianNoise(0.1)(x)\n",
        "x=Dense(4096,activation='relu',kernel_regularizer=regularizers.l2(0.01))(x)\n",
        "x=Dropout(0.4)(x)\n",
        "\n",
        "x=keras.layers.GaussianNoise(0.1)(x)\n",
        "x=Dense(1024,activation='relu',kernel_regularizer=regularizers.l2(0.01))(x)\n",
        "x=Dropout(0.4)(x)\n",
        "\n",
        "'''#x=keras.layers.GaussianNoise(0.1)(x)\n",
        "x=Dense(512,activation='relu',kernel_regularizer=regularizers.l2(0.015))(x)\n",
        "\n",
        "x=Dropout(0.3)(x)'\n",
        "'''\n",
        "'''x=keras.layers.GaussianNoise(0.15)(x)\n",
        "x=Dense(512,activation='relu',kernel_regularizer=regularizers.l2(0.015))(x)\n",
        "x=Dropout(0.5)(x)\n",
        "\n",
        "'''\n",
        "preds=Dense(3,activation='softmax')(x)\n",
        "\n",
        "\n",
        "model = Model(inputs=[base_model.input], outputs=preds)\n",
        "\n",
        "\n",
        "print('Model loaded.')\n",
        "\n",
        "#for layer in base_model.layers:\n",
        " #   layer.trainable = False"
      ],
      "execution_count": 6,
      "outputs": [
        {
          "output_type": "stream",
          "text": [
            "W0822 05:50:24.775290 140367873435520 deprecation_wrapper.py:119] From /usr/local/lib/python3.6/dist-packages/keras/backend/tensorflow_backend.py:4138: The name tf.random_uniform is deprecated. Please use tf.random.uniform instead.\n",
            "\n",
            "W0822 05:50:24.818645 140367873435520 deprecation_wrapper.py:119] From /usr/local/lib/python3.6/dist-packages/keras/backend/tensorflow_backend.py:174: The name tf.get_default_session is deprecated. Please use tf.compat.v1.get_default_session instead.\n",
            "\n",
            "W0822 05:50:24.819846 140367873435520 deprecation_wrapper.py:119] From /usr/local/lib/python3.6/dist-packages/keras/backend/tensorflow_backend.py:181: The name tf.ConfigProto is deprecated. Please use tf.compat.v1.ConfigProto instead.\n",
            "\n",
            "W0822 05:50:27.838690 140367873435520 deprecation_wrapper.py:119] From /usr/local/lib/python3.6/dist-packages/keras/backend/tensorflow_backend.py:1834: The name tf.nn.fused_batch_norm is deprecated. Please use tf.compat.v1.nn.fused_batch_norm instead.\n",
            "\n",
            "W0822 05:50:28.144769 140367873435520 deprecation_wrapper.py:119] From /usr/local/lib/python3.6/dist-packages/keras/backend/tensorflow_backend.py:3976: The name tf.nn.max_pool is deprecated. Please use tf.nn.max_pool2d instead.\n",
            "\n",
            "W0822 05:50:29.041023 140367873435520 deprecation_wrapper.py:119] From /usr/local/lib/python3.6/dist-packages/keras/backend/tensorflow_backend.py:3980: The name tf.nn.avg_pool is deprecated. Please use tf.nn.avg_pool2d instead.\n",
            "\n"
          ],
          "name": "stderr"
        },
        {
          "output_type": "stream",
          "text": [
            "Downloading data from https://github.com/fchollet/deep-learning-models/releases/download/v0.5/inception_v3_weights_tf_dim_ordering_tf_kernels_notop.h5\n",
            "87916544/87910968 [==============================] - 4s 0us/step\n"
          ],
          "name": "stdout"
        },
        {
          "output_type": "stream",
          "text": [
            "W0822 05:50:47.450616 140367873435520 deprecation.py:506] From /usr/local/lib/python3.6/dist-packages/keras/backend/tensorflow_backend.py:3445: calling dropout (from tensorflow.python.ops.nn_ops) with keep_prob is deprecated and will be removed in a future version.\n",
            "Instructions for updating:\n",
            "Please use `rate` instead of `keep_prob`. Rate should be set to `rate = 1 - keep_prob`.\n"
          ],
          "name": "stderr"
        },
        {
          "output_type": "stream",
          "text": [
            "Model loaded.\n"
          ],
          "name": "stdout"
        }
      ]
    },
    {
      "cell_type": "code",
      "metadata": {
        "id": "yQvTTFTn5AiG",
        "colab_type": "code",
        "colab": {}
      },
      "source": [
        "for layer in model.layers[:90]:\n",
        "   layer.trainable = False\n",
        "for layer in model.layers[90:]:\n",
        "   layer.trainable = True"
      ],
      "execution_count": 0,
      "outputs": []
    },
    {
      "cell_type": "code",
      "metadata": {
        "id": "OwRPzMcH16f-",
        "colab_type": "code",
        "colab": {
          "base_uri": "https://localhost:8080/",
          "height": 71
        },
        "outputId": "0ec1e8af-7975-4918-89f3-4ef958252166"
      },
      "source": [
        "from keras.metrics import categorical_accuracy, top_k_categorical_accuracy\n",
        "\n",
        "def top_3_accuracy(y_true, y_pred):\n",
        "    return top_k_categorical_accuracy(y_true, y_pred, k=3)\n",
        "\n",
        "def top_2_accuracy(y_true, y_pred):\n",
        "    return top_k_categorical_accuracy(y_true, y_pred, k=2)\n",
        "\n",
        "\n",
        "model.compile(optimizer='adam',\n",
        "              loss='squared_hinge',\n",
        "              metrics=['accuracy'])\n",
        "\n",
        "\n",
        "from keras.utils import plot_model\n",
        "plot_model(model, to_file='fusion1.png')\n"
      ],
      "execution_count": 7,
      "outputs": [
        {
          "output_type": "stream",
          "text": [
            "W0822 05:50:47.575958 140367873435520 deprecation_wrapper.py:119] From /usr/local/lib/python3.6/dist-packages/keras/optimizers.py:790: The name tf.train.Optimizer is deprecated. Please use tf.compat.v1.train.Optimizer instead.\n",
            "\n"
          ],
          "name": "stderr"
        }
      ]
    },
    {
      "cell_type": "code",
      "metadata": {
        "id": "IFA9HXiE7Ymf",
        "colab_type": "code",
        "outputId": "0f03a01f-0df2-43ec-a0e3-c94003396185",
        "colab": {
          "base_uri": "https://localhost:8080/",
          "height": 1000
        }
      },
      "source": [
        "import imageio as im\n",
        "from keras import models\n",
        "from keras.callbacks import ModelCheckpoint,ReduceLROnPlateau\n",
        "\n",
        "\n",
        "\n",
        "\n",
        "call_early=keras.callbacks.EarlyStopping(monitor='val_loss', min_delta=0, patience=4, verbose=1,\n",
        "                                         mode='auto', baseline=None, restore_best_weights=False)\n",
        "\n",
        "\n",
        "reduce_lr = ReduceLROnPlateau(monitor='val_acc', factor=0.5, patience=2,\n",
        "                              verbose=1, mode='max', min_lr=0.00001)\n",
        "\n",
        "checkpointer = ModelCheckpoint(filepath=\"best_weights.hdf5\", \n",
        "                               monitor = 'val_acc',\n",
        "                               verbose=1, \n",
        "                               save_best_only=True)\n",
        "\n",
        "callbacks_list=[checkpointer,reduce_lr,call_early]\n",
        "\n",
        "history=model.fit_generator(training_set,\n",
        "                            steps_per_epoch = training_set.samples // batch_size,\n",
        "                            validation_data = test_set, \n",
        "                            validation_steps = test_set.samples // batch_size,\n",
        "                            callbacks=callbacks_list,\n",
        "                            epochs =25,\n",
        "                            class_weight=class_weights)\n"
      ],
      "execution_count": 10,
      "outputs": [
        {
          "output_type": "stream",
          "text": [
            "W0822 05:51:32.763566 140367873435520 deprecation.py:323] From /usr/local/lib/python3.6/dist-packages/tensorflow/python/ops/math_grad.py:1250: add_dispatch_support.<locals>.wrapper (from tensorflow.python.ops.array_ops) is deprecated and will be removed in a future version.\n",
            "Instructions for updating:\n",
            "Use tf.where in 2.0, which has the same broadcast rule as np.where\n"
          ],
          "name": "stderr"
        },
        {
          "output_type": "stream",
          "text": [
            "Epoch 1/25\n",
            "245/245 [==============================] - 553s 2s/step - loss: 2.5109 - acc: 0.6227 - val_loss: 0.9589 - val_acc: 0.3194\n",
            "\n",
            "Epoch 00001: val_acc improved from -inf to 0.31944, saving model to best_weights.hdf5\n",
            "Epoch 2/25\n",
            "245/245 [==============================] - 493s 2s/step - loss: 0.8232 - acc: 0.6556 - val_loss: 0.8645 - val_acc: 0.5174\n",
            "\n",
            "Epoch 00002: val_acc improved from 0.31944 to 0.51741, saving model to best_weights.hdf5\n",
            "Epoch 3/25\n",
            "245/245 [==============================] - 488s 2s/step - loss: 0.8209 - acc: 0.6696 - val_loss: 0.8499 - val_acc: 0.5704\n",
            "\n",
            "Epoch 00003: val_acc improved from 0.51741 to 0.57043, saving model to best_weights.hdf5\n",
            "Epoch 4/25\n",
            "245/245 [==============================] - 487s 2s/step - loss: 0.8167 - acc: 0.6809 - val_loss: 0.8686 - val_acc: 0.5820\n",
            "\n",
            "Epoch 00004: val_acc improved from 0.57043 to 0.58204, saving model to best_weights.hdf5\n",
            "Epoch 5/25\n",
            "245/245 [==============================] - 488s 2s/step - loss: 0.8080 - acc: 0.7065 - val_loss: 0.8330 - val_acc: 0.6200\n",
            "\n",
            "Epoch 00005: val_acc improved from 0.58204 to 0.61997, saving model to best_weights.hdf5\n",
            "Epoch 6/25\n",
            "245/245 [==============================] - 490s 2s/step - loss: 0.8115 - acc: 0.7080 - val_loss: 0.8441 - val_acc: 0.5484\n",
            "\n",
            "Epoch 00006: val_acc did not improve from 0.61997\n",
            "Epoch 7/25\n",
            "245/245 [==============================] - 489s 2s/step - loss: 0.8058 - acc: 0.7135 - val_loss: 0.8385 - val_acc: 0.5840\n",
            "\n",
            "Epoch 00007: val_acc did not improve from 0.61997\n",
            "\n",
            "Epoch 00007: ReduceLROnPlateau reducing learning rate to 0.0005000000237487257.\n",
            "Epoch 8/25\n",
            "245/245 [==============================] - 489s 2s/step - loss: 0.7643 - acc: 0.7544 - val_loss: 0.7916 - val_acc: 0.6722\n",
            "\n",
            "Epoch 00008: val_acc improved from 0.61997 to 0.67221, saving model to best_weights.hdf5\n",
            "Epoch 9/25\n",
            "245/245 [==============================] - 489s 2s/step - loss: 0.7601 - acc: 0.7673 - val_loss: 0.8507 - val_acc: 0.4265\n",
            "\n",
            "Epoch 00009: val_acc did not improve from 0.67221\n",
            "Epoch 10/25\n",
            "245/245 [==============================] - 489s 2s/step - loss: 0.7592 - acc: 0.7758 - val_loss: 0.7997 - val_acc: 0.6285\n",
            "\n",
            "Epoch 00010: val_acc did not improve from 0.67221\n",
            "\n",
            "Epoch 00010: ReduceLROnPlateau reducing learning rate to 0.0002500000118743628.\n",
            "Epoch 11/25\n",
            "245/245 [==============================] - 488s 2s/step - loss: 0.7387 - acc: 0.8003 - val_loss: 0.7984 - val_acc: 0.5909\n",
            "\n",
            "Epoch 00011: val_acc did not improve from 0.67221\n",
            "Epoch 12/25\n",
            "245/245 [==============================] - 488s 2s/step - loss: 0.7350 - acc: 0.8167 - val_loss: 0.8016 - val_acc: 0.5820\n",
            "\n",
            "Epoch 00012: val_acc did not improve from 0.67221\n",
            "\n",
            "Epoch 00012: ReduceLROnPlateau reducing learning rate to 0.0001250000059371814.\n",
            "Epoch 00012: early stopping\n"
          ],
          "name": "stdout"
        }
      ]
    },
    {
      "cell_type": "code",
      "metadata": {
        "id": "bTNKJWel7eUM",
        "colab_type": "code",
        "outputId": "913b1bf7-a252-48ab-b5e2-a79edb0fd4ec",
        "colab": {
          "base_uri": "https://localhost:8080/",
          "height": 573
        }
      },
      "source": [
        "plt.plot(history.history['acc'])\n",
        "plt.plot(history.history['val_acc'])\n",
        "plt.title('model accuracy')\n",
        "plt.ylabel('accuracy')\n",
        "plt.xlabel('epoch')\n",
        "plt.legend(['train', 'test'], loc='upper left')\n",
        "plt.show()\n",
        "\n",
        "# summarize history for loss\n",
        "plt.plot(history.history['loss'])\n",
        "plt.plot(history.history['val_loss'])\n",
        "plt.title('model loss')\n",
        "plt.ylabel('loss')\n",
        "plt.xlabel('epoch')\n",
        "plt.legend(['train', 'test'], loc='upper left')\n",
        "plt.show()"
      ],
      "execution_count": 11,
      "outputs": [
        {
          "output_type": "display_data",
          "data": {
            "image/png": "[encoded data removed]",
            "text/plain": [
              "<Figure size 432x288 with 1 Axes>"
            ]
          },
          "metadata": {
            "tags": []
          }
        },
        {
          "output_type": "display_data",
          "data": {
            "image/png": "[encoded data removed]",
            "text/plain": [
              "<Figure size 432x288 with 1 Axes>"
            ]
          },
          "metadata": {
            "tags": []
          }
        }
      ]
    },
    {
      "cell_type": "code",
      "metadata": {
        "id": "-qR3jTtU6Ih7",
        "colab_type": "code",
        "colab": {}
      },
      "source": [
        "from sklearn.metrics import roc_curve,roc_auc_score\n",
        "y_pred =  model.predict_generator(test_set, steps=test_set.samples // batch_size)\n"
      ],
      "execution_count": 0,
      "outputs": []
    },
    {
      "cell_type": "code",
      "metadata": {
        "id": "9Twqzzyl8zxo",
        "colab_type": "code",
        "colab": {}
      },
      "source": [
        "from sklearn import metrics\n",
        "fpr, tpr, tresholds =roc_curve(y_pred,test_set.classes)"
      ],
      "execution_count": 0,
      "outputs": []
    },
    {
      "cell_type": "code",
      "metadata": {
        "id": "rCS9eG3R3DlG",
        "colab_type": "code",
        "colab": {}
      },
      "source": [
        "roc_curve(y_pred, test_set.classes.argmax(axis=-1))\n",
        "auc = roc_auc_score(test_set, y_pred)\n",
        "print('AUC: %.3f' % auc)"
      ],
      "execution_count": 0,
      "outputs": []
    },
    {
      "cell_type": "code",
      "metadata": {
        "id": "vnvvjnavZPEU",
        "colab_type": "code",
        "outputId": "818644c4-53ea-44d7-837c-87e2ec3c696a",
        "colab": {
          "base_uri": "https://localhost:8080/",
          "height": 51
        }
      },
      "source": [
        "scores=model.evaluate_generator(test_set,steps=10)\n",
        "print(scores)\n",
        "\n",
        "scores1=model.evaluate_generator(training_set,steps=10)\n",
        "print(scores1)"
      ],
      "execution_count": 12,
      "outputs": [
        {
          "output_type": "stream",
          "text": [
            "[0.730887097120285, 0.853125]\n",
            "[0.7274989438215363, 0.8405315618578382]\n"
          ],
          "name": "stdout"
        }
      ]
    },
    {
      "cell_type": "code",
      "metadata": {
        "id": "8o399J7aZdr7",
        "colab_type": "code",
        "colab": {}
      },
      "source": [
        "model.save(\"mobile_net.h5\")"
      ],
      "execution_count": 0,
      "outputs": []
    },
    {
      "cell_type": "markdown",
      "metadata": {
        "id": "ZmX24T_r-edr",
        "colab_type": "text"
      },
      "source": [
        ""
      ]
    },
    {
      "cell_type": "code",
      "metadata": {
        "id": "04DBcTVHU0N9",
        "colab_type": "code",
        "outputId": "af65c255-d932-48c3-b3ec-5f38d98cffe8",
        "colab": {
          "base_uri": "https://localhost:8080/",
          "height": 337
        }
      },
      "source": [
        "\n",
        "\n",
        "img_path =\"/content/SortedImages/MEL/ISIC_0000002.jpg\"\n",
        "img =image.load_img(img_path,target_size=(img_rows, img_cols))\n",
        "img_tensor = image.img_to_array(img)\n",
        "img_tensor = np.expand_dims(img_tensor, axis=0)\n",
        "img_tensor /= 255.\n",
        "plt.imshow(img_tensor[0])\n",
        "plt.show()\n",
        "print(img_tensor.shape)\n",
        "\n",
        "\n",
        "label=(training_set.class_indices)\n",
        "print(label)\n",
        "\n",
        "# predicting images\n",
        "\n",
        "# predicting images\n",
        "x = image.img_to_array(img)\n",
        "x = np.expand_dims(x, axis=0)\n",
        "images = np.vstack([x])\n",
        "classes = model.predict(images, batch_size=16)\n",
        "print(\"Predicted class is:\",classes.argmax(axis=-1))\n",
        "\n",
        "print('**********************************************************')\n",
        "  "
      ],
      "execution_count": 0,
      "outputs": [
        {
          "output_type": "display_data",
          "data": {
            "image/png": "[encoded data removed]",
            "text/plain": [
              "<Figure size 432x288 with 1 Axes>"
            ]
          },
          "metadata": {
            "tags": []
          }
        },
        {
          "output_type": "stream",
          "text": [
            "(1, 299, 299, 3)\n",
            "{'MEL': 0, 'BCC': 1}\n",
            "Predicted class is: [0]\n",
            "**********************************************************\n"
          ],
          "name": "stdout"
        }
      ]
    },
    {
      "cell_type": "code",
      "metadata": {
        "id": "CrnE3Xh7gkTC",
        "colab_type": "code",
        "colab": {}
      },
      "source": [
        "from google.colab import files\n",
        "uploaded = files.upload()"
      ],
      "execution_count": 0,
      "outputs": []
    },
    {
      "cell_type": "code",
      "metadata": {
        "id": "PTZfitAiTe5B",
        "colab_type": "code",
        "outputId": "8c57924e-b281-430a-b051-5c1fad424dc6",
        "colab": {
          "base_uri": "https://localhost:8080/",
          "height": 292
        }
      },
      "source": [
        "layer_outputs = [layer.output for layer in model.layers[1:]] \n",
        "# Extracts the outputs of the top 12 layers\n",
        "activation_model = models.Model(inputs=model.input, outputs=layer_outputs)\n",
        "\n",
        "\n",
        "img_path =\"/content/SortedImages/MEL/ISIC_0000002.jpg\"\n",
        "img =image.load_img(img_path,target_size=(img_rows, img_cols))\n",
        "img_tensor = image.img_to_array(img)\n",
        "img_tensor = np.expand_dims(img_tensor, axis=0)\n",
        "img_tensor/=255.\n",
        "activations = activation_model.predict(img_tensor) \n",
        "\n",
        "first_layer_activation = activations[0]\n",
        "plt.matshow(first_layer_activation[0, :, :, 4], cmap='viridis')\n"
      ],
      "execution_count": 0,
      "outputs": [
        {
          "output_type": "execute_result",
          "data": {
            "text/plain": [
              "<matplotlib.image.AxesImage at 0x7f0bcbd83080>"
            ]
          },
          "metadata": {
            "tags": []
          },
          "execution_count": 16
        },
        {
          "output_type": "display_data",
          "data": {
            "image/png": "[encoded data removed]",
            "text/plain": [
              "<Figure size 288x288 with 1 Axes>"
            ]
          },
          "metadata": {
            "tags": []
          }
        }
      ]
    },
    {
      "cell_type": "code",
      "metadata": {
        "id": "7QvFU4YcJCtr",
        "colab_type": "code",
        "colab": {}
      },
      "source": [
        "x= base_model.inputs\n",
        "\n",
        "def get_activations(model,model_inputs, print_shape_only=False, layer_name=5):\n",
        "    print('----- activations -----')\n",
        "    activations = []\n",
        "    inp = model.input\n",
        "\n",
        "    model_multi_inputs_cond = True\n",
        "    if not isinstance(inp, list):\n",
        "        # only one input! let's wrap it in a list.\n",
        "        inp = [inp]\n",
        "        model_multi_inputs_cond = False\n",
        "\n",
        "    outputs = [layer.output for layer in model.layers if\n",
        "               layer.name == layer_name or layer_name is None][1:]\n",
        "\n",
        "    funcs = [K.function(inp + [K.learning_phase()], [out]) for out in outputs]  # evaluation functions\n",
        "\n",
        "    if model_multi_inputs_cond:\n",
        "        list_inputs = []\n",
        "        list_inputs.extend(model_inputs)\n",
        "        list_inputs.append(0.)\n",
        "    else:\n",
        "        list_inputs = [model_inputs, 0.]\n",
        "\n",
        "\n",
        "    print(list_inputs)\n",
        "    layer_outputs = [func(list_inputs)[0] for func in funcs]\n",
        "    for layer_activations in layer_outputs:\n",
        "        activations.append(layer_activations)\n",
        "        if print_shape_only:\n",
        "            print(layer_activations.shape)\n",
        "        else:\n",
        "            print(layer_activations)\n",
        "    return activations"
      ],
      "execution_count": 0,
      "outputs": []
    },
    {
      "cell_type": "code",
      "metadata": {
        "id": "GoqOX7rAJgfj",
        "colab_type": "code",
        "outputId": "c5f2fca4-92e4-48d8-b38a-7014978d2a2b",
        "colab": {
          "base_uri": "https://localhost:8080/",
          "height": 68
        }
      },
      "source": [
        "get_activations(base_model,x)"
      ],
      "execution_count": 0,
      "outputs": [
        {
          "output_type": "stream",
          "text": [
            "----- activations -----\n",
            "[[<tf.Tensor 'input_40:0' shape=(?, 224, 224, 3) dtype=float32>], 0.0]\n"
          ],
          "name": "stdout"
        },
        {
          "output_type": "execute_result",
          "data": {
            "text/plain": [
              "[]"
            ]
          },
          "metadata": {
            "tags": []
          },
          "execution_count": 65
        }
      ]
    },
    {
      "cell_type": "code",
      "metadata": {
        "id": "Gv1rhPrBWLGH",
        "colab_type": "code",
        "colab": {}
      },
      "source": [
        "layer_names = []\n",
        "for layer in model.layers[:10]:\n",
        "    layer_names.append(layer.name) # Names of the layers, so you can have them as part of your plot\n",
        "    \n",
        "images_per_row = 16\n",
        "\n",
        "for layer_name, layer_activation in zip(layer_names, activations): # Displays the feature maps\n",
        "    n_features = layer_activation.shape[-1] # Number of features in the feature map\n",
        "    size = layer_activation.shape[1] #The feature map has shape (1, size, size, n_features).\n",
        "    n_cols = n_features // images_per_row # Tiles the activation channels in this matrix\n",
        "    display_grid = np.zeros((size * n_cols, images_per_row * size))\n",
        "    for col in range(n_cols): # Tiles each filter into a big horizontal grid\n",
        "        for row in range(images_per_row):\n",
        "            channel_image = layer_activation[0,\n",
        "                                             :, :,\n",
        "                                             col * images_per_row + row]\n",
        "            channel_image -= channel_image.mean() # Post-processes the feature to make it visually palatable\n",
        "            channel_image /= channel_image.std()\n",
        "            channel_image *= 64\n",
        "            channel_image += 128\n",
        "            channel_image = np.clip(channel_image, 0, 255).astype('uint8')\n",
        "            display_grid[col * size : (col + 1) * size, # Displays the grid\n",
        "                         row * size : (row + 1) * size] = channel_image\n",
        "    scale = 1. / size\n",
        "    plt.figure(figsize=(scale * display_grid.shape[1],\n",
        "                        scale * display_grid.shape[0]))\n",
        "    plt.title(layer_name)\n",
        "    plt.grid(False)\n",
        "    plt.imshow(display_grid, aspect='auto', cmap='viridis')"
      ],
      "execution_count": 0,
      "outputs": []
    },
    {
      "cell_type": "code",
      "metadata": {
        "id": "vmKxG-T3XWIV",
        "colab_type": "code",
        "outputId": "eea42b97-e14c-452f-d4d9-59e91b707a8f",
        "colab": {
          "base_uri": "https://localhost:8080/",
          "height": 34
        }
      },
      "source": [
        "test_set.reset()\n",
        "training_set.reset()\n",
        "\n",
        "\"\"\"\"\"pred=model.predict_generator(training_set,\n",
        "                             steps=training_set.samples // batch_size,\n",
        "                             verbose=1)\n",
        "pred = np.argmax(pred, axis=1)\n",
        "\"\"\"\"\"\n",
        "pred1=model.predict_generator(test_set,\n",
        "                             steps=test_set.samples // batch_size,\n",
        "                             verbose=1)\n",
        "pred1 = np.argmax(pred1, axis=1)\n",
        "\n"
      ],
      "execution_count": 13,
      "outputs": [
        {
          "output_type": "stream",
          "text": [
            "81/81 [==============================] - 91s 1s/step\n"
          ],
          "name": "stdout"
        }
      ]
    },
    {
      "cell_type": "code",
      "metadata": {
        "id": "U8vqZkVGCo2t",
        "colab_type": "code",
        "colab": {}
      },
      "source": [
        ""
      ],
      "execution_count": 0,
      "outputs": []
    },
    {
      "cell_type": "code",
      "metadata": {
        "id": "mUtj-cOhZMnb",
        "colab_type": "code",
        "outputId": "cfa4061d-0e94-4764-dfa1-d687c843cab9",
        "colab": {
          "base_uri": "https://localhost:8080/",
          "height": 221
        }
      },
      "source": [
        "from sklearn.metrics import classification_report\n",
        "print(classification_report(test_set.classes[0:len(pred1)], pred1,target_names=test_set.class_indices))\n",
        "print('******************************************************************')\n",
        "print('training report')\n",
        "#print(classification_report(training_set.classes[0:6464], pred,target_names=training_set.class_indices))"
      ],
      "execution_count": 15,
      "outputs": [
        {
          "output_type": "stream",
          "text": [
            "              precision    recall  f1-score   support\n",
            "\n",
            "         MEL       0.81      0.64      0.71      1130\n",
            "         BKL       0.37      0.64      0.47       656\n",
            "         BCC       0.67      0.47      0.55       806\n",
            "\n",
            "    accuracy                           0.59      2592\n",
            "   macro avg       0.62      0.58      0.58      2592\n",
            "weighted avg       0.65      0.59      0.60      2592\n",
            "\n",
            "******************************************************************\n",
            "training report\n"
          ],
          "name": "stdout"
        }
      ]
    },
    {
      "cell_type": "code",
      "metadata": {
        "id": "OJH2lnESyJZX",
        "colab_type": "code",
        "colab": {}
      },
      "source": [
        "from keras import regularizers\n",
        "\n",
        "def inception_architecture():\n",
        "    \"\"\"\n",
        "    Pre-build architecture of inception for our dataset.\n",
        "    \"\"\"\n",
        "    # Imprting the model \n",
        "    from keras.applications.inception_v3 import InceptionV3\n",
        "\n",
        "    # Pre-build model\n",
        "    base_model = keras.applications.inception_v3.InceptionV3(include_top = False, weights ='imagenet',input_tensor=visible)\n",
        "\n",
        "    # Adding output layers\n",
        "    x = base_model.output\n",
        "    x = keras.layers.GlobalMaxPooling2D()(x)\n",
        "    x=Dense(512,activation='relu',kernel_regularizer=regularizers.l2(0.01))(x)\n",
        "    x=Dropout(0.35)(x)\n",
        "    \n",
        "    \n",
        "    \n",
        "    output = Dense(units = 2, activation = 'softmax')(x)\n",
        "\n",
        "    # Creating the whole model\n",
        "    inception_model = Model(base_model.input, output)\n",
        "    \n",
        "    # Summary of the model\n",
        "    #inception_model.summary()\n",
        "    \n",
        "    # Compiling the model\n",
        "    inception_model.compile(optimizer = keras.optimizers.Adam(), \n",
        "                            loss = 'binary_crossentropy', \n",
        "                            metrics = ['accuracy'])\n",
        "    \n",
        "    return inception_model"
      ],
      "execution_count": 0,
      "outputs": []
    },
    {
      "cell_type": "code",
      "metadata": {
        "id": "UvyCJjPmoNcA",
        "colab_type": "code",
        "colab": {}
      },
      "source": [
        "def dense_architecture():\n",
        "    \"\"\"\n",
        "    Pre-build architecture of inception for our dataset.\n",
        "    \"\"\"\n",
        "   \n",
        "    # Pre-build model\n",
        "    base_model = keras.applications.densenet.DenseNet201(include_top = False, weights ='imagenet',input_tensor=visible)\n",
        "\n",
        "    # Adding output layers\n",
        "    x = base_model.output\n",
        "    x = keras.layers.GlobalMaxPooling2D()(x)\n",
        "    \n",
        "    x=Dense(512,activation='relu',kernel_regularizer=regularizers.l2(0.01))(x)\n",
        "    x=Dropout(0.4)(x)\n",
        "    \n",
        "   \n",
        "    output = Dense(units =2, activation = 'softmax')(x)\n",
        "\n",
        "    # Creating the whole model\n",
        "    denseNet = Model(base_model.input, output)\n",
        "    \n",
        "    # Summary of the model\n",
        "    #inception_model.summary()\n",
        "    \n",
        "    # Compiling the model\n",
        "    denseNet.compile(optimizer = keras.optimizers.Adam(), \n",
        "                            loss = 'binary_crossentropy', \n",
        "                            metrics = ['accuracy'])\n",
        "    \n",
        "    return denseNet"
      ],
      "execution_count": 0,
      "outputs": []
    },
    {
      "cell_type": "code",
      "metadata": {
        "id": "NVVPAqSnD8_2",
        "colab_type": "code",
        "colab": {}
      },
      "source": [
        "def xcp_architecture():\n",
        "    \"\"\"\n",
        "    Pre-build architecture of inception for our dataset.\n",
        "    \"\"\"\n",
        "   \n",
        "    # Pre-build model\n",
        "    base_model = keras.applications.xception.Xception(include_top = False, weights ='imagenet',input_tensor=visible)\n",
        "\n",
        "    # Adding output layers\n",
        "    x = base_model.output\n",
        "    x = keras.layers.GlobalMaxPooling2D()(x)\n",
        "    \n",
        "    '''x=Dense(512,activation='relu',kernel_regularizer=regularizers.l2(0.01))(x)\n",
        "    x=Dropout(0.5)(x)\n",
        "    \n",
        "    x=Dense(256,activation='relu',kernel_regularizer=regularizers.l2(0.01))(x)\n",
        "    x=Dropout(0.4)(x)\n",
        "    '''\n",
        "    output = Dense(units =6, activation = 'softmax')(x)\n",
        "\n",
        "    # Creating the whole model\n",
        "    xcpNet = Model(base_model.input, output)\n",
        "    \n",
        "    # Summary of the model\n",
        "    #inception_model.summary()\n",
        "    \n",
        "    # Compiling the model\n",
        "    xcpNet.compile(optimizer = keras.optimizers.Adam(), \n",
        "                            loss = 'categorical_crossentropy', \n",
        "                            metrics = ['accuracy'])\n",
        "    \n",
        "    return xcpNet\n"
      ],
      "execution_count": 0,
      "outputs": []
    },
    {
      "cell_type": "code",
      "metadata": {
        "id": "Z1tqFziMEmJM",
        "colab_type": "code",
        "colab": {}
      },
      "source": [
        "def nas_architecture():\n",
        "    \"\"\"\n",
        "    Pre-build architecture of inception for our dataset.\n",
        "    \"\"\"\n",
        "   \n",
        "    # Pre-build model\n",
        "    base_model = keras.applications.nasnet.NASNetMobile(include_top = False, weights ='imagenet',input_tensor=visible)\n",
        "\n",
        "    # Adding output layers\n",
        "    x = base_model.output\n",
        "    x = keras.layers.GlobalMaxPooling2D()(x)\n",
        "    \n",
        "    '''x=Dense(512,activation='relu',kernel_regularizer=regularizers.l2(0.01))(x)\n",
        "    x=Dropout(0.5)(x)\n",
        "    \n",
        "    x=Dense(256,activation='relu',kernel_regularizer=regularizers.l2(0.01))(x)\n",
        "    x=Dropout(0.4)(x)\n",
        "    '''\n",
        "    output = Dense(units =6, activation = 'softmax')(x)\n",
        "\n",
        "    # Creating the whole model\n",
        "    nasNet = Model(base_model.input, output)\n",
        "    \n",
        "    # Summary of the model\n",
        "    #inception_model.summary()\n",
        "    \n",
        "    # Compiling the model\n",
        "    nasNet.compile(optimizer = keras.optimizers.Adam(), \n",
        "                            loss = 'categorical_crossentropy', \n",
        "                            metrics = ['accuracy'])\n",
        "    \n",
        "    return nasNet"
      ],
      "execution_count": 0,
      "outputs": []
    },
    {
      "cell_type": "code",
      "metadata": {
        "id": "hnIaW8IXE2Zq",
        "colab_type": "code",
        "colab": {}
      },
      "source": [
        "def mob_architecture():\n",
        "    \"\"\"\n",
        "    Pre-build architecture of inception for our dataset.\n",
        "    \"\"\"\n",
        "   \n",
        "    # Pre-build model\n",
        "    base_model =keras.applications.mobilenet_v2.MobileNetV2(include_top = False, weights ='imagenet',input_tensor=visible)\n",
        "\n",
        "    # Adding output layers\n",
        "    x = base_model.output\n",
        "    x = keras.layers.GlobalMaxPooling2D()(x)\n",
        "    \n",
        "    '''x=Dense(512,activation='relu',kernel_regularizer=regularizers.l2(0.01))(x)\n",
        "    x=Dropout(0.5)(x)\n",
        "    \n",
        "    x=Dense(256,activation='relu',kernel_regularizer=regularizers.l2(0.01))(x)\n",
        "    x=Dropout(0.4)(x)\n",
        "    '''\n",
        "    output = Dense(units =6, activation = 'softmax')(x)\n",
        "\n",
        "    # Creating the whole model\n",
        "    mobileNet = Model(base_model.input, output)\n",
        "    \n",
        "    # Summary of the model\n",
        "    #inception_model.summary()\n",
        "    \n",
        "    # Compiling the model\n",
        "    mobileNet.compile(optimizer = keras.optimizers.Adam(), \n",
        "                            loss = 'categorical_crossentropy', \n",
        "                            metrics = ['accuracy'])\n",
        "    \n",
        "    return mobileNet"
      ],
      "execution_count": 0,
      "outputs": []
    },
    {
      "cell_type": "code",
      "metadata": {
        "id": "IhGd-2kNoij5",
        "colab_type": "code",
        "outputId": "f6076abf-3222-4788-c706-9b5759803444",
        "colab": {
          "base_uri": "https://localhost:8080/",
          "height": 241
        }
      },
      "source": [
        "inc=inception_architecture()\n",
        "den=dense_architecture()\n",
        "#xcp=xcp_architecture()\n",
        "#mob=mob_architecture()\n",
        "#nas= nas_architecture()"
      ],
      "execution_count": 0,
      "outputs": [
        {
          "output_type": "stream",
          "text": [
            "Downloading data from https://github.com/fchollet/deep-learning-models/releases/download/v0.5/inception_v3_weights_tf_dim_ordering_tf_kernels_notop.h5\n",
            "87916544/87910968 [==============================] - 8s 0us/step\n"
          ],
          "name": "stdout"
        },
        {
          "output_type": "stream",
          "text": [
            "W0812 16:16:39.632173 140709890582400 deprecation.py:506] From /usr/local/lib/python3.6/dist-packages/keras/backend/tensorflow_backend.py:3445: calling dropout (from tensorflow.python.ops.nn_ops) with keep_prob is deprecated and will be removed in a future version.\n",
            "Instructions for updating:\n",
            "Please use `rate` instead of `keep_prob`. Rate should be set to `rate = 1 - keep_prob`.\n",
            "W0812 16:16:39.705303 140709890582400 deprecation_wrapper.py:119] From /usr/local/lib/python3.6/dist-packages/keras/optimizers.py:790: The name tf.train.Optimizer is deprecated. Please use tf.compat.v1.train.Optimizer instead.\n",
            "\n",
            "W0812 16:16:39.720946 140709890582400 deprecation.py:323] From /usr/local/lib/python3.6/dist-packages/tensorflow/python/ops/nn_impl.py:180: add_dispatch_support.<locals>.wrapper (from tensorflow.python.ops.array_ops) is deprecated and will be removed in a future version.\n",
            "Instructions for updating:\n",
            "Use tf.where in 2.0, which has the same broadcast rule as np.where\n"
          ],
          "name": "stderr"
        },
        {
          "output_type": "stream",
          "text": [
            "Downloading data from https://github.com/keras-team/keras-applications/releases/download/densenet/densenet201_weights_tf_dim_ordering_tf_kernels_notop.h5\n",
            "74842112/74836368 [==============================] - 6s 0us/step\n"
          ],
          "name": "stdout"
        }
      ]
    },
    {
      "cell_type": "code",
      "metadata": {
        "id": "bvXXO4wPorZa",
        "colab_type": "code",
        "colab": {}
      },
      "source": [
        "models=[inc,den]\n",
        "\n",
        "def ensemble(models, visible):\n",
        "    \n",
        "    outputs = [model.outputs[0] for model in models]\n",
        "    \n",
        "    y = keras.layers.Average()(outputs)\n",
        "    \n",
        "    model = Model(visible, y, name='ensemble')\n",
        "    \n",
        "    return model"
      ],
      "execution_count": 0,
      "outputs": []
    },
    {
      "cell_type": "code",
      "metadata": {
        "id": "JJBqBc3xpZOt",
        "colab_type": "code",
        "colab": {}
      },
      "source": [
        "from keras.metrics import categorical_accuracy, top_k_categorical_accuracy\n",
        "\n",
        "def top_3_accuracy(y_true, y_pred):\n",
        "    return top_k_categorical_accuracy(y_true, y_pred, k=3)\n",
        "\n",
        "def top_2_accuracy(y_true, y_pred):\n",
        "    return top_k_categorical_accuracy(y_true, y_pred, k=2)\n",
        "\n",
        "\n",
        "ese =ensemble( models,visible)\n",
        "ese.compile(loss='binary_crossentropy',\n",
        "              optimizer='adam',\n",
        "              metrics=['accuracy'])"
      ],
      "execution_count": 0,
      "outputs": []
    },
    {
      "cell_type": "code",
      "metadata": {
        "id": "tdGDpyESp7sd",
        "colab_type": "code",
        "outputId": "12c7f496-fb3e-41aa-e9d6-c36fd6919415",
        "colab": {
          "base_uri": "https://localhost:8080/",
          "height": 34
        }
      },
      "source": [
        "import imageio as im\n",
        "from keras import models\n",
        "from keras.callbacks import ModelCheckpoint,ReduceLROnPlateau\n",
        "\n",
        "\n",
        "\n",
        "\n",
        "\n",
        "call_early=keras.callbacks.EarlyStopping(monitor='val_loss', min_delta=0, patience=5, verbose=1,\n",
        "                                         mode='auto', baseline=None, restore_best_weights=False)\n",
        "\n",
        "\n",
        "reduce_lr = ReduceLROnPlateau(monitor='val_acc', factor=0.5, patience=2,\n",
        "                              verbose=1, mode='max', min_lr=0.00001)\n",
        "\n",
        "checkpointer = ModelCheckpoint(filepath=\"best_weights.hdf5\", \n",
        "                               monitor = 'val_acc',\n",
        "                               verbose=1, \n",
        "                               save_best_only=True)\n",
        "\n",
        "callbacks_list=[checkpointer,reduce_lr,call_early]\n",
        "\n",
        "history=ese.fit_generator(training_set,\n",
        "                            steps_per_epoch = training_set.samples // batch_size,\n",
        "                            validation_data = test_set, \n",
        "                            validation_steps = test_set.samples // batch_size,\n",
        "                            callbacks=callbacks_list,\n",
        "                            epochs =30,\n",
        "                            class_weight=class_weights)"
      ],
      "execution_count": 0,
      "outputs": [
        {
          "output_type": "stream",
          "text": [
            "Epoch 1/30\n"
          ],
          "name": "stdout"
        }
      ]
    },
    {
      "cell_type": "code",
      "metadata": {
        "id": "UE421MG-rAkk",
        "colab_type": "code",
        "outputId": "0c4e9d7a-9124-4ab0-b908-cebcb1c03d86",
        "colab": {
          "base_uri": "https://localhost:8080/",
          "height": 51
        }
      },
      "source": [
        "scores=ese.evaluate_generator(test_set,steps=10)\n",
        "print(scores)\n",
        "\n",
        "scores1=ese.evaluate_generator(training_set,steps=10)\n",
        "print(scores1)"
      ],
      "execution_count": 0,
      "outputs": [
        {
          "output_type": "stream",
          "text": [
            "[0.6492531783878803, 0.775]\n",
            "[0.48390225917100904, 0.8583333373069764]\n"
          ],
          "name": "stdout"
        }
      ]
    },
    {
      "cell_type": "code",
      "metadata": {
        "id": "LqbUqiHYnuDK",
        "colab_type": "code",
        "colab": {}
      },
      "source": [
        ""
      ],
      "execution_count": 0,
      "outputs": []
    }
  ]
}