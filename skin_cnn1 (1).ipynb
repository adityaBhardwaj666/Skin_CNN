{
  "nbformat": 4,
  "nbformat_minor": 0,
  "metadata": {
    "colab": {
      "name": "skin_cnn1.ipynb",
      "version": "0.3.2",
      "provenance": [],
      "collapsed_sections": []
    },
    "kernelspec": {
      "name": "python3",
      "display_name": "Python 3"
    },
    "accelerator": "GPU"
  },
  "cells": [
    {
      "metadata": {
        "id": "RcR85J0wlrKq",
        "colab_type": "code",
        "outputId": "4c7e2a11-72b3-43c0-c020-944602113908",
        "colab": {
          "base_uri": "https://localhost:8080/",
          "height": 34
        }
      },
      "cell_type": "code",
      "source": [
        "from google.colab import drive\n",
        "drive.mount('/content/gdrive',force_remount=True)"
      ],
      "execution_count": 48,
      "outputs": [
        {
          "output_type": "stream",
          "text": [
            "Mounted at /content/gdrive\n"
          ],
          "name": "stdout"
        }
      ]
    },
    {
      "metadata": {
        "id": "ySDVu_DDqOpE",
        "colab_type": "text"
      },
      "cell_type": "markdown",
      "source": [
        "# New Section"
      ]
    },
    {
      "metadata": {
        "id": "7gGN5nRhPRKH",
        "colab_type": "code",
        "colab": {}
      },
      "cell_type": "code",
      "source": [
        "\n",
        "import numpy as np\n",
        "import pandas as pd\n",
        "import os\n",
        "import keras\n",
        "from sklearn.datasets import load_files\n",
        "from keras.utils import np_utils\n",
        "\n",
        "\n",
        "from keras.applications.inception_v3 import InceptionV3,preprocess_input,decode_predictions\n",
        "from keras.preprocessing import image\n",
        "from keras.layers import Dense, GlobalAveragePooling2D,Dropout,Input\n",
        "# from keras.layers.advanced_activations import LeakyReLU, ELU\n",
        "from keras.models import Sequential,Model\n",
        "from keras import backend as K\n",
        "from IPython.display import display\n",
        "\n",
        "from keras.preprocessing.image import ImageDataGenerator\n",
        "\n",
        "import glob\n",
        "import cv2\n",
        "from keras.models import Sequential,Input,Model\n",
        "from keras.layers import Dense, Dropout, Flatten\n",
        "from keras.layers import Conv2D, MaxPooling2D\n",
        "from keras.layers.normalization import BatchNormalization\n",
        "from keras.layers.advanced_activations import LeakyReLU\n"
      ],
      "execution_count": 0,
      "outputs": []
    },
    {
      "metadata": {
        "id": "8-NnhAogPUGb",
        "colab_type": "code",
        "outputId": "49015fd4-bbd2-40b0-b1e9-047ac7b19b32",
        "colab": {
          "base_uri": "https://localhost:8080/",
          "height": 34
        }
      },
      "cell_type": "code",
      "source": [
        "train=[]\n",
        "\n",
        "files=(glob.glob(\"/content/gdrive/My Drive/ham21/*\"))\n",
        "for myFile in files:\n",
        "    image = cv2.imread (myFile)\n",
        "    train.append (image)\n",
        "    \n",
        "print(np.array(train).shape)\n",
        "\n",
        "# path=\"/content/gdrive/My Drive/single_cell_data/\"\n",
        "# #!ls {path}\n",
        "# data = load_files(path)\n",
        "# print(data)"
      ],
      "execution_count": 77,
      "outputs": [
        {
          "output_type": "stream",
          "text": [
            "(23, 450, 600, 3)\n"
          ],
          "name": "stdout"
        }
      ]
    },
    {
      "metadata": {
        "id": "lEdkiR9KnmP0",
        "colab_type": "code",
        "outputId": "6e4a7671-b8eb-4604-8939-d85615980943",
        "colab": {
          "base_uri": "https://localhost:8080/",
          "height": 71
        }
      },
      "cell_type": "code",
      "source": [
        "import cv2\n",
        "train_X=[]\n",
        "\n",
        "items = os.listdir('/content/gdrive/My Drive/ham21')\n",
        "print (items)\n",
        "for each_image in items:\n",
        "  if each_image.endswith(\".jpg\"):\n",
        "   full_path = \"/content/gdrive/My Drive/ham21/\" + each_image\n",
        "   #print (full_path)\n",
        "   image = cv2.imread(full_path)\n",
        "   train_X.append(image)\n",
        "   \n",
        "print(np.array(train_X).shape)\n"
      ],
      "execution_count": 0,
      "outputs": [
        {
          "output_type": "stream",
          "text": [
            "['ISIC_0024306.jpg', 'ISIC_0024307.jpg', 'ISIC_0024308.jpg', 'ISIC_0024309.jpg', 'ISIC_0024310.jpg', 'ISIC_0024311.jpg', 'ISIC_0024312.jpg', 'ISIC_0024313.jpg', 'ISIC_0024314.jpg', 'ISIC_0024315.jpg', 'ISIC_0024324.jpg', 'ISIC_0024316.jpg', 'ISIC_0024317.jpg', 'ISIC_0024318.jpg', 'ISIC_0024319.jpg', 'ISIC_0024320.jpg', 'ISIC_0024321.jpg', 'ISIC_0024323.jpg', 'ISIC_0024325.jpg', 'ISIC_0024322.jpg', 'ISIC_0024326.jpg', 'ISIC_0024328.jpg', 'ISIC_0024327.jpg', '.ipynb_checkpoints']\n",
            "(23, 450, 600, 3)\n"
          ],
          "name": "stdout"
        }
      ]
    },
    {
      "metadata": {
        "id": "Tbl_8U0HoOqQ",
        "colab_type": "code",
        "outputId": "571338d7-6fe2-4b3a-fbf5-7633b3b1af57",
        "colab": {
          "base_uri": "https://localhost:8080/",
          "height": 34
        }
      },
      "cell_type": "code",
      "source": [
        "label =[]\n",
        "target =pd.read_csv(\"/content/gdrive/My Drive/ISIC2018_Task3_Training_GroundTruth.csv\",nrows=23,delimiter=\",\")\n",
        "nv=target.NV\n",
        "\n",
        "for i in nv:\n",
        "  if(i==1.0):\n",
        "    label.append(1)\n",
        "  else:\n",
        "    label.append(0)\n",
        "    \n",
        "print((np.array(label)).shape)\n"
      ],
      "execution_count": 78,
      "outputs": [
        {
          "output_type": "stream",
          "text": [
            "(23,)\n"
          ],
          "name": "stdout"
        }
      ]
    },
    {
      "metadata": {
        "id": "wT7QcG2ukOqN",
        "colab_type": "code",
        "colab": {}
      },
      "cell_type": "code",
      "source": [
        "target_train=target[['MEL','NV','BCC','AKIEC','BKL','DF','VASC']]\n"
      ],
      "execution_count": 0,
      "outputs": []
    },
    {
      "metadata": {
        "id": "voX0qWHpxCHm",
        "colab_type": "code",
        "colab": {}
      },
      "cell_type": "code",
      "source": [
        "train_datagen = ImageDataGenerator(rescale = 1./255,\n",
        "\n",
        "                                                                           shear_range = 0.1, \n",
        "\n",
        "                                                                           zoom_range = 0.2, \n",
        "\n",
        "                                                                           horizontal_flip = True)"
      ],
      "execution_count": 0,
      "outputs": []
    },
    {
      "metadata": {
        "id": "A4z6AJfUvAYf",
        "colab_type": "code",
        "colab": {}
      },
      "cell_type": "code",
      "source": [
        "from sklearn.model_selection import train_test_split\n",
        "X_train, X_test, Y_train, Y_test = train_test_split(train, label, test_size = 0.2)\n",
        "\n",
        "#change shape from (x,0) to (x,1)\n",
        "Y_train=np.array(Y_train).reshape(np.array(Y_train).shape[0],1)\n",
        "Y_test=np.array(Y_test).reshape(np.array(Y_test).shape[0],1)\n"
      ],
      "execution_count": 0,
      "outputs": []
    },
    {
      "metadata": {
        "id": "UhJb5Gc4v2Do",
        "colab_type": "code",
        "outputId": "4e9c3608-6aed-4919-9062-9b40cfc78962",
        "colab": {
          "base_uri": "https://localhost:8080/",
          "height": 68
        }
      },
      "cell_type": "code",
      "source": [
        "from keras.utils import np_utils\n",
        "n_classes=2\n",
        "y_train=np_utils.to_categorical(Y_train,n_classes)\n",
        "y_test=np_utils.to_categorical(Y_test,n_classes)\n",
        "print(\"Shape after one encoding train label\",y_train.shape)\n",
        "print(\"Shape after one encoding test label\",y_test.shape)\n",
        "\n",
        "img_rows = X_train[0].shape[0]\n",
        "img_cols = X_train[0].shape[1]\n",
        "\n",
        "input_shape=(img_rows,img_cols,3)\n",
        "\n",
        "print(input_shape)"
      ],
      "execution_count": 80,
      "outputs": [
        {
          "output_type": "stream",
          "text": [
            "Shape after one encoding train label (18, 2)\n",
            "Shape after one encoding test label (5, 2)\n",
            "(450, 600, 3)\n"
          ],
          "name": "stdout"
        }
      ]
    },
    {
      "metadata": {
        "id": "_011e1WYxzNw",
        "colab_type": "code",
        "colab": {}
      },
      "cell_type": "code",
      "source": [
        "import numpy as np\n",
        "import matplotlib\n",
        "import matplotlib.pyplot as plt\n",
        "from keras.models import Sequential,load_model\n",
        "from keras.layers import Dense , Dropout,Activation\n",
        "from keras import layers, optimizers"
      ],
      "execution_count": 0,
      "outputs": []
    },
    {
      "metadata": {
        "id": "aAtQ3V0-ySdM",
        "colab_type": "code",
        "colab": {}
      },
      "cell_type": "code",
      "source": [
        "model = Sequential()\n",
        "\n",
        "model.add(Conv2D(32,(3,3),input_shape=(input_shape)))\n",
        "model.add(Activation('relu'))\n",
        "model.add(MaxPooling2D(pool_size=(2,2)))\n",
        "model.add(Dropout(0.3))\n",
        "\n",
        "\n",
        "model.add(Conv2D(64,(3,3)))\n",
        "model.add(Activation('relu'))\n",
        "model.add(MaxPooling2D(pool_size=(2,2)))\n",
        "model.add(Dropout(0.2))\n",
        "\n",
        "\n",
        "model.add(Conv2D(32,(3,3)))\n",
        "model.add(Activation('relu'))\n",
        "model.add(MaxPooling2D(pool_size=(2,2)))\n",
        "model.add(Dropout(0.3))\n",
        "\n",
        "\n",
        "model.add(Flatten())\n",
        "model.add(Dense(264))\n",
        "model.add(Activation('relu'))\n",
        "model.add(Dropout(0.5))\n",
        "model.add(Dense(2))\n",
        "model.add(Activation('sigmoid'))\n",
        "\n",
        "#print(model.summary())"
      ],
      "execution_count": 0,
      "outputs": []
    },
    {
      "metadata": {
        "id": "Bka_CysWyc7M",
        "colab_type": "code",
        "colab": {}
      },
      "cell_type": "code",
      "source": [
        "model.compile( optimizer='adam',loss='binary_crossentropy',\n",
        "                metrics=['accuracy'])"
      ],
      "execution_count": 0,
      "outputs": []
    },
    {
      "metadata": {
        "id": "F7DoUrhqym5_",
        "colab_type": "code",
        "outputId": "c204cc16-6f92-47d1-93cf-1bb368f98b10",
        "colab": {
          "base_uri": "https://localhost:8080/",
          "height": 3454
        }
      },
      "cell_type": "code",
      "source": [
        "history=model.fit(np.array(X_train),np.array(y_train),\n",
        "                 batch_size=20,epochs=100,\n",
        "                 verbose=1,\n",
        "                 validation_data=(np.array(X_test),np.array(y_test)))\n"
      ],
      "execution_count": 84,
      "outputs": [
        {
          "output_type": "stream",
          "text": [
            "Train on 18 samples, validate on 5 samples\n",
            "Epoch 1/100\n",
            "18/18 [==============================] - 3s 170ms/step - loss: 6.2242 - acc: 0.6111 - val_loss: 7.9712 - val_acc: 0.5000\n",
            "Epoch 2/100\n",
            "18/18 [==============================] - 0s 22ms/step - loss: 9.7670 - acc: 0.3889 - val_loss: 7.9712 - val_acc: 0.5000\n",
            "Epoch 3/100\n",
            "18/18 [==============================] - 0s 21ms/step - loss: 9.7719 - acc: 0.3889 - val_loss: 7.9712 - val_acc: 0.5000\n",
            "Epoch 4/100\n",
            "18/18 [==============================] - 0s 21ms/step - loss: 8.8764 - acc: 0.4444 - val_loss: 7.9712 - val_acc: 0.5000\n",
            "Epoch 5/100\n",
            "18/18 [==============================] - 0s 21ms/step - loss: 7.9907 - acc: 0.5000 - val_loss: 7.9712 - val_acc: 0.5000\n",
            "Epoch 6/100\n",
            "18/18 [==============================] - 0s 21ms/step - loss: 9.7621 - acc: 0.3889 - val_loss: 7.9712 - val_acc: 0.5000\n",
            "Epoch 7/100\n",
            "18/18 [==============================] - 0s 21ms/step - loss: 9.3144 - acc: 0.4167 - val_loss: 7.9712 - val_acc: 0.5000\n",
            "Epoch 8/100\n",
            "18/18 [==============================] - 0s 21ms/step - loss: 8.4238 - acc: 0.4722 - val_loss: 7.9712 - val_acc: 0.5000\n",
            "Epoch 9/100\n",
            "18/18 [==============================] - 0s 21ms/step - loss: 8.4287 - acc: 0.4722 - val_loss: 7.9712 - val_acc: 0.5000\n",
            "Epoch 10/100\n",
            "18/18 [==============================] - 0s 21ms/step - loss: 8.4238 - acc: 0.4722 - val_loss: 7.9712 - val_acc: 0.5000\n",
            "Epoch 11/100\n",
            "18/18 [==============================] - 0s 21ms/step - loss: 8.4238 - acc: 0.4722 - val_loss: 7.9712 - val_acc: 0.5000\n",
            "Epoch 12/100\n",
            "18/18 [==============================] - 0s 21ms/step - loss: 9.3144 - acc: 0.4167 - val_loss: 7.9712 - val_acc: 0.5000\n",
            "Epoch 13/100\n",
            "18/18 [==============================] - 0s 21ms/step - loss: 8.8764 - acc: 0.4444 - val_loss: 7.9712 - val_acc: 0.5000\n",
            "Epoch 14/100\n",
            "18/18 [==============================] - 0s 21ms/step - loss: 9.3290 - acc: 0.4167 - val_loss: 7.9712 - val_acc: 0.5000\n",
            "Epoch 15/100\n",
            "18/18 [==============================] - 0s 21ms/step - loss: 7.9810 - acc: 0.5000 - val_loss: 7.9712 - val_acc: 0.5000\n",
            "Epoch 16/100\n",
            "18/18 [==============================] - 0s 22ms/step - loss: 8.4238 - acc: 0.4722 - val_loss: 7.9712 - val_acc: 0.5000\n",
            "Epoch 17/100\n",
            "18/18 [==============================] - 0s 21ms/step - loss: 7.9907 - acc: 0.5000 - val_loss: 7.9712 - val_acc: 0.5000\n",
            "Epoch 18/100\n",
            "18/18 [==============================] - 0s 21ms/step - loss: 8.4189 - acc: 0.4722 - val_loss: 7.9712 - val_acc: 0.5000\n",
            "Epoch 19/100\n",
            "18/18 [==============================] - 0s 21ms/step - loss: 9.3241 - acc: 0.4167 - val_loss: 7.9712 - val_acc: 0.5000\n",
            "Epoch 20/100\n",
            "18/18 [==============================] - 0s 21ms/step - loss: 8.4238 - acc: 0.4722 - val_loss: 7.9712 - val_acc: 0.5000\n",
            "Epoch 21/100\n",
            "18/18 [==============================] - 0s 21ms/step - loss: 7.9712 - acc: 0.5000 - val_loss: 7.9712 - val_acc: 0.5000\n",
            "Epoch 22/100\n",
            "18/18 [==============================] - 0s 21ms/step - loss: 7.9761 - acc: 0.5000 - val_loss: 7.9712 - val_acc: 0.5000\n",
            "Epoch 23/100\n",
            "18/18 [==============================] - 0s 21ms/step - loss: 8.4189 - acc: 0.4722 - val_loss: 7.9712 - val_acc: 0.5000\n",
            "Epoch 24/100\n",
            "18/18 [==============================] - 0s 21ms/step - loss: 8.8666 - acc: 0.4444 - val_loss: 7.9712 - val_acc: 0.5000\n",
            "Epoch 25/100\n",
            "18/18 [==============================] - 0s 21ms/step - loss: 8.4287 - acc: 0.4722 - val_loss: 7.9712 - val_acc: 0.5000\n",
            "Epoch 26/100\n",
            "18/18 [==============================] - 0s 21ms/step - loss: 9.3192 - acc: 0.4167 - val_loss: 7.9712 - val_acc: 0.5000\n",
            "Epoch 27/100\n",
            "18/18 [==============================] - 0s 21ms/step - loss: 8.4336 - acc: 0.4722 - val_loss: 7.9712 - val_acc: 0.5000\n",
            "Epoch 28/100\n",
            "18/18 [==============================] - 0s 21ms/step - loss: 8.4287 - acc: 0.4722 - val_loss: 7.9712 - val_acc: 0.5000\n",
            "Epoch 29/100\n",
            "18/18 [==============================] - 0s 21ms/step - loss: 8.8764 - acc: 0.4444 - val_loss: 7.9712 - val_acc: 0.5000\n",
            "Epoch 30/100\n",
            "18/18 [==============================] - 0s 21ms/step - loss: 9.3192 - acc: 0.4167 - val_loss: 7.9712 - val_acc: 0.5000\n",
            "Epoch 31/100\n",
            "18/18 [==============================] - 0s 21ms/step - loss: 11.1053 - acc: 0.3056 - val_loss: 7.9712 - val_acc: 0.5000\n",
            "Epoch 32/100\n",
            "18/18 [==============================] - 0s 21ms/step - loss: 8.4336 - acc: 0.4722 - val_loss: 7.9712 - val_acc: 0.5000\n",
            "Epoch 33/100\n",
            "18/18 [==============================] - 0s 21ms/step - loss: 11.1101 - acc: 0.3056 - val_loss: 7.9712 - val_acc: 0.5000\n",
            "Epoch 34/100\n",
            "18/18 [==============================] - 0s 21ms/step - loss: 9.7670 - acc: 0.3889 - val_loss: 7.9712 - val_acc: 0.5000\n",
            "Epoch 35/100\n",
            "18/18 [==============================] - 0s 21ms/step - loss: 7.9761 - acc: 0.5000 - val_loss: 7.9712 - val_acc: 0.5000\n",
            "Epoch 36/100\n",
            "18/18 [==============================] - 0s 22ms/step - loss: 8.8715 - acc: 0.4444 - val_loss: 7.9712 - val_acc: 0.5000\n",
            "Epoch 37/100\n",
            "18/18 [==============================] - 0s 21ms/step - loss: 9.7621 - acc: 0.3889 - val_loss: 7.9712 - val_acc: 0.5000\n",
            "Epoch 38/100\n",
            "18/18 [==============================] - 0s 21ms/step - loss: 7.9810 - acc: 0.5000 - val_loss: 7.9712 - val_acc: 0.5000\n",
            "Epoch 39/100\n",
            "18/18 [==============================] - 0s 21ms/step - loss: 6.6427 - acc: 0.5833 - val_loss: 7.9712 - val_acc: 0.5000\n",
            "Epoch 40/100\n",
            "18/18 [==============================] - 0s 21ms/step - loss: 8.4287 - acc: 0.4722 - val_loss: 7.9712 - val_acc: 0.5000\n",
            "Epoch 41/100\n",
            "18/18 [==============================] - 0s 21ms/step - loss: 7.9810 - acc: 0.5000 - val_loss: 7.9712 - val_acc: 0.5000\n",
            "Epoch 42/100\n",
            "18/18 [==============================] - 0s 21ms/step - loss: 8.4238 - acc: 0.4722 - val_loss: 7.9712 - val_acc: 0.5000\n",
            "Epoch 43/100\n",
            "18/18 [==============================] - 0s 22ms/step - loss: 8.4287 - acc: 0.4722 - val_loss: 7.9712 - val_acc: 0.5000\n",
            "Epoch 44/100\n",
            "18/18 [==============================] - 0s 22ms/step - loss: 9.3241 - acc: 0.4167 - val_loss: 7.9712 - val_acc: 0.5000\n",
            "Epoch 45/100\n",
            "18/18 [==============================] - 0s 21ms/step - loss: 8.8715 - acc: 0.4444 - val_loss: 7.9712 - val_acc: 0.5000\n",
            "Epoch 46/100\n",
            "18/18 [==============================] - 0s 21ms/step - loss: 8.8813 - acc: 0.4444 - val_loss: 7.9712 - val_acc: 0.5000\n",
            "Epoch 47/100\n",
            "18/18 [==============================] - 0s 21ms/step - loss: 9.7621 - acc: 0.3889 - val_loss: 7.9712 - val_acc: 0.5000\n",
            "Epoch 48/100\n",
            "18/18 [==============================] - 0s 21ms/step - loss: 9.3290 - acc: 0.4167 - val_loss: 7.9712 - val_acc: 0.5000\n",
            "Epoch 49/100\n",
            "18/18 [==============================] - 0s 21ms/step - loss: 7.0855 - acc: 0.5556 - val_loss: 7.9712 - val_acc: 0.5000\n",
            "Epoch 50/100\n",
            "18/18 [==============================] - 0s 21ms/step - loss: 7.9810 - acc: 0.5000 - val_loss: 7.9712 - val_acc: 0.5000\n",
            "Epoch 51/100\n",
            "18/18 [==============================] - 0s 21ms/step - loss: 8.4287 - acc: 0.4722 - val_loss: 7.9712 - val_acc: 0.5000\n",
            "Epoch 52/100\n",
            "18/18 [==============================] - 0s 21ms/step - loss: 10.2098 - acc: 0.3611 - val_loss: 7.9712 - val_acc: 0.5000\n",
            "Epoch 53/100\n",
            "18/18 [==============================] - 0s 21ms/step - loss: 8.4238 - acc: 0.4722 - val_loss: 7.9712 - val_acc: 0.5000\n",
            "Epoch 54/100\n",
            "18/18 [==============================] - 0s 21ms/step - loss: 8.4287 - acc: 0.4722 - val_loss: 7.9712 - val_acc: 0.5000\n",
            "Epoch 55/100\n",
            "18/18 [==============================] - 0s 21ms/step - loss: 7.9810 - acc: 0.5000 - val_loss: 7.9712 - val_acc: 0.5000\n",
            "Epoch 56/100\n",
            "18/18 [==============================] - 0s 21ms/step - loss: 8.8715 - acc: 0.4444 - val_loss: 7.9712 - val_acc: 0.5000\n",
            "Epoch 57/100\n",
            "18/18 [==============================] - 0s 21ms/step - loss: 9.3192 - acc: 0.4167 - val_loss: 7.9712 - val_acc: 0.5000\n",
            "Epoch 58/100\n",
            "18/18 [==============================] - 0s 21ms/step - loss: 10.2098 - acc: 0.3611 - val_loss: 7.9712 - val_acc: 0.5000\n",
            "Epoch 59/100\n",
            "18/18 [==============================] - 0s 21ms/step - loss: 8.4189 - acc: 0.4722 - val_loss: 7.9712 - val_acc: 0.5000\n",
            "Epoch 60/100\n",
            "18/18 [==============================] - 0s 21ms/step - loss: 8.4238 - acc: 0.4722 - val_loss: 7.9712 - val_acc: 0.5000\n",
            "Epoch 61/100\n",
            "18/18 [==============================] - 0s 21ms/step - loss: 9.3192 - acc: 0.4167 - val_loss: 7.9712 - val_acc: 0.5000\n",
            "Epoch 62/100\n",
            "18/18 [==============================] - 0s 21ms/step - loss: 10.2147 - acc: 0.3611 - val_loss: 7.9712 - val_acc: 0.5000\n",
            "Epoch 63/100\n",
            "18/18 [==============================] - 0s 21ms/step - loss: 8.4238 - acc: 0.4722 - val_loss: 7.9712 - val_acc: 0.5000\n",
            "Epoch 64/100\n",
            "18/18 [==============================] - 0s 21ms/step - loss: 7.9810 - acc: 0.5000 - val_loss: 7.9712 - val_acc: 0.5000\n",
            "Epoch 65/100\n",
            "18/18 [==============================] - 0s 21ms/step - loss: 8.8764 - acc: 0.4444 - val_loss: 7.9712 - val_acc: 0.5000\n",
            "Epoch 66/100\n",
            "18/18 [==============================] - 0s 21ms/step - loss: 9.7621 - acc: 0.3889 - val_loss: 7.9712 - val_acc: 0.5000\n",
            "Epoch 67/100\n",
            "18/18 [==============================] - 0s 21ms/step - loss: 10.2098 - acc: 0.3611 - val_loss: 7.9712 - val_acc: 0.5000\n",
            "Epoch 68/100\n",
            "18/18 [==============================] - 0s 21ms/step - loss: 10.6575 - acc: 0.3333 - val_loss: 7.9712 - val_acc: 0.5000\n",
            "Epoch 69/100\n",
            "18/18 [==============================] - 0s 21ms/step - loss: 8.8715 - acc: 0.4444 - val_loss: 7.9712 - val_acc: 0.5000\n",
            "Epoch 70/100\n",
            "18/18 [==============================] - 0s 21ms/step - loss: 9.7621 - acc: 0.3889 - val_loss: 7.9712 - val_acc: 0.5000\n",
            "Epoch 71/100\n",
            "18/18 [==============================] - 0s 21ms/step - loss: 8.8715 - acc: 0.4444 - val_loss: 7.9712 - val_acc: 0.5000\n",
            "Epoch 72/100\n",
            "18/18 [==============================] - 0s 21ms/step - loss: 8.4287 - acc: 0.4722 - val_loss: 7.9712 - val_acc: 0.5000\n",
            "Epoch 73/100\n",
            "18/18 [==============================] - 0s 21ms/step - loss: 8.6232 - acc: 0.4444 - val_loss: 9.6181 - val_acc: 0.4000\n",
            "Epoch 74/100\n",
            "18/18 [==============================] - 0s 21ms/step - loss: 10.2245 - acc: 0.3611 - val_loss: 9.6181 - val_acc: 0.4000\n",
            "Epoch 75/100\n",
            "18/18 [==============================] - 0s 21ms/step - loss: 9.7865 - acc: 0.3889 - val_loss: 9.6181 - val_acc: 0.4000\n",
            "Epoch 76/100\n",
            "18/18 [==============================] - 0s 21ms/step - loss: 11.5725 - acc: 0.2778 - val_loss: 9.6181 - val_acc: 0.4000\n",
            "Epoch 77/100\n",
            "18/18 [==============================] - 0s 21ms/step - loss: 10.6819 - acc: 0.3333 - val_loss: 9.6181 - val_acc: 0.4000\n",
            "Epoch 78/100\n",
            "18/18 [==============================] - 0s 21ms/step - loss: 11.1297 - acc: 0.3056 - val_loss: 9.6181 - val_acc: 0.4000\n",
            "Epoch 79/100\n",
            "18/18 [==============================] - 0s 21ms/step - loss: 11.1297 - acc: 0.3056 - val_loss: 9.6181 - val_acc: 0.4000\n",
            "Epoch 80/100\n",
            "18/18 [==============================] - 0s 21ms/step - loss: 11.5774 - acc: 0.2778 - val_loss: 9.6181 - val_acc: 0.4000\n",
            "Epoch 81/100\n",
            "18/18 [==============================] - 0s 21ms/step - loss: 11.5774 - acc: 0.2778 - val_loss: 9.6181 - val_acc: 0.4000\n",
            "Epoch 82/100\n",
            "18/18 [==============================] - 0s 21ms/step - loss: 11.5774 - acc: 0.2778 - val_loss: 9.6181 - val_acc: 0.4000\n",
            "Epoch 83/100\n",
            "18/18 [==============================] - 0s 21ms/step - loss: 11.5774 - acc: 0.2778 - val_loss: 9.6181 - val_acc: 0.4000\n",
            "Epoch 84/100\n",
            "18/18 [==============================] - 0s 21ms/step - loss: 11.5774 - acc: 0.2778 - val_loss: 9.6181 - val_acc: 0.4000\n",
            "Epoch 85/100\n",
            "18/18 [==============================] - 0s 21ms/step - loss: 12.0202 - acc: 0.2500 - val_loss: 9.6181 - val_acc: 0.4000\n",
            "Epoch 86/100\n",
            "18/18 [==============================] - 0s 21ms/step - loss: 11.5774 - acc: 0.2778 - val_loss: 9.6181 - val_acc: 0.4000\n",
            "Epoch 87/100\n",
            "18/18 [==============================] - 0s 21ms/step - loss: 11.5774 - acc: 0.2778 - val_loss: 9.6181 - val_acc: 0.4000\n",
            "Epoch 88/100\n",
            "18/18 [==============================] - 0s 21ms/step - loss: 11.5774 - acc: 0.2778 - val_loss: 9.6181 - val_acc: 0.4000\n",
            "Epoch 89/100\n",
            "18/18 [==============================] - 0s 21ms/step - loss: 11.5774 - acc: 0.2778 - val_loss: 9.6181 - val_acc: 0.4000\n",
            "Epoch 90/100\n",
            "18/18 [==============================] - 0s 21ms/step - loss: 11.5774 - acc: 0.2778 - val_loss: 9.6181 - val_acc: 0.4000\n",
            "Epoch 91/100\n",
            "18/18 [==============================] - 0s 21ms/step - loss: 11.5774 - acc: 0.2778 - val_loss: 9.6181 - val_acc: 0.4000\n",
            "Epoch 92/100\n",
            "18/18 [==============================] - 0s 21ms/step - loss: 11.5774 - acc: 0.2778 - val_loss: 9.6181 - val_acc: 0.4000\n",
            "Epoch 93/100\n",
            "18/18 [==============================] - 0s 21ms/step - loss: 11.5774 - acc: 0.2778 - val_loss: 9.6181 - val_acc: 0.4000\n",
            "Epoch 94/100\n",
            "18/18 [==============================] - 0s 21ms/step - loss: 11.1346 - acc: 0.3056 - val_loss: 9.6181 - val_acc: 0.4000\n",
            "Epoch 95/100\n",
            "18/18 [==============================] - 0s 21ms/step - loss: 11.5774 - acc: 0.2778 - val_loss: 9.6181 - val_acc: 0.4000\n",
            "Epoch 96/100\n",
            "18/18 [==============================] - 0s 21ms/step - loss: 11.5774 - acc: 0.2778 - val_loss: 9.6181 - val_acc: 0.4000\n",
            "Epoch 97/100\n",
            "18/18 [==============================] - 0s 21ms/step - loss: 11.1346 - acc: 0.3056 - val_loss: 9.6181 - val_acc: 0.4000\n",
            "Epoch 98/100\n",
            "18/18 [==============================] - 0s 21ms/step - loss: 11.5774 - acc: 0.2778 - val_loss: 9.6181 - val_acc: 0.4000\n",
            "Epoch 99/100\n",
            "18/18 [==============================] - 0s 21ms/step - loss: 11.5774 - acc: 0.2778 - val_loss: 9.6181 - val_acc: 0.4000\n",
            "Epoch 100/100\n",
            "18/18 [==============================] - 0s 21ms/step - loss: 11.5774 - acc: 0.2778 - val_loss: 9.6181 - val_acc: 0.4000\n"
          ],
          "name": "stdout"
        }
      ]
    },
    {
      "metadata": {
        "id": "RI_d7R4AyqNL",
        "colab_type": "code",
        "colab": {}
      },
      "cell_type": "code",
      "source": [
        "model.save(\"skin1.h5\")"
      ],
      "execution_count": 0,
      "outputs": []
    },
    {
      "metadata": {
        "id": "rH2ca_2Zortj",
        "colab_type": "code",
        "outputId": "ad31330a-342a-4d17-e34d-bbcd5e9ee109",
        "colab": {
          "base_uri": "https://localhost:8080/",
          "height": 68
        }
      },
      "cell_type": "code",
      "source": [
        "scores=model.evaluate(np.array(X_train),np.array(y_train),verbose=1)\n",
        "print(\"Test loss\",scores[0])\n",
        "print(\"test accuracy\",scores[1])"
      ],
      "execution_count": 85,
      "outputs": [
        {
          "output_type": "stream",
          "text": [
            "\r18/18 [==============================] - 0s 9ms/step\n",
            "Test loss 11.577396392822266\n",
            "test accuracy 0.2777777910232544\n"
          ],
          "name": "stdout"
        }
      ]
    },
    {
      "metadata": {
        "id": "aflgIhxTpWZs",
        "colab_type": "code",
        "colab": {
          "base_uri": "https://localhost:8080/",
          "height": 376
        },
        "outputId": "f130e86e-e6e6-4b5f-d380-617da226fb8c"
      },
      "cell_type": "code",
      "source": [
        "plt.plot(history.history['acc'])\n",
        "plt.plot(history.history['val_acc'])\n",
        "plt.title('model accuracy')\n",
        "plt.ylabel('accuracy')\n",
        "plt.xlabel('epoch')\n",
        "plt.legend(['train', 'test'], loc='upper left')\n",
        "plt.show()"
      ],
      "execution_count": 86,
      "outputs": [
        {
          "output_type": "display_data",
          "data": {
            "image/png": "[encoded data removed]",
            "text/plain": [
              "<Figure size 576x396 with 1 Axes>"
            ]
          },
          "metadata": {
            "tags": []
          }
        }
      ]
    },
    {
      "metadata": {
        "id": "gbAIrwn3p6_g",
        "colab_type": "code",
        "colab": {
          "base_uri": "https://localhost:8080/",
          "height": 428
        },
        "outputId": "00bcd67b-8e79-4745-d881-647de13115ed"
      },
      "cell_type": "code",
      "source": [
        "plt.figure(figsize=[8,6])\n",
        "plt.plot(history.history['acc'],'r',linewidth=2.0)\n",
        "plt.plot(history.history['val_acc'],'b',linewidth=3.0)\n",
        "plt.legend(['Training Accuracy', 'Validation Accuracy'],fontsize=18)\n",
        "plt.xlabel('Epochs ',fontsize=16)\n",
        "plt.ylabel('Accuracy',fontsize=16)\n",
        "plt.title('Accuracy Curves',fontsize=16)"
      ],
      "execution_count": 87,
      "outputs": [
        {
          "output_type": "execute_result",
          "data": {
            "text/plain": [
              "Text(0.5, 1.0, 'Accuracy Curves')"
            ]
          },
          "metadata": {
            "tags": []
          },
          "execution_count": 87
        },
        {
          "output_type": "display_data",
          "data": {
            "image/png": "[encoded data removed]",
            "text/plain": [
              "<Figure size 576x432 with 1 Axes>"
            ]
          },
          "metadata": {
            "tags": []
          }
        }
      ]
    },
    {
      "metadata": {
        "id": "s3HW99CxqB5i",
        "colab_type": "code",
        "colab": {}
      },
      "cell_type": "code",
      "source": [
        ""
      ],
      "execution_count": 0,
      "outputs": []
    }
  ]
}